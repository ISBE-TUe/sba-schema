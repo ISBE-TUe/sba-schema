{
 "cells": [
  {
   "cell_type": "code",
   "execution_count": null,
   "metadata": {},
   "outputs": [],
   "source": [
    "# %pip install python-dotenv\n",
    "# %pip install pandas\n",
    "# %pip install requests\n",
    "# %pip install pyshacl\n",
    "# %pip install brickschema"
   ]
  },
  {
   "cell_type": "code",
   "execution_count": 2,
   "metadata": {},
   "outputs": [],
   "source": [
    "import requests\n",
    "import pandas as pd\n",
    "import json\n",
    "from io import StringIO"
   ]
  },
  {
   "cell_type": "markdown",
   "metadata": {},
   "source": [
    "# Developing artifacts for building 1"
   ]
  },
  {
   "cell_type": "code",
   "execution_count": 18,
   "metadata": {},
   "outputs": [],
   "source": [
    "building1_sparql_endpoint = 'http://localhost:7400/repositories/building1'"
   ]
  },
  {
   "cell_type": "markdown",
   "metadata": {},
   "source": [
    "### Read the artifact graph and list the required inputs for later validation"
   ]
  },
  {
   "cell_type": "code",
   "execution_count": 19,
   "metadata": {},
   "outputs": [
    {
     "data": {
      "text/html": [
       "<div>\n",
       "<style scoped>\n",
       "    .dataframe tbody tr th:only-of-type {\n",
       "        vertical-align: middle;\n",
       "    }\n",
       "\n",
       "    .dataframe tbody tr th {\n",
       "        vertical-align: top;\n",
       "    }\n",
       "\n",
       "    .dataframe thead th {\n",
       "        text-align: right;\n",
       "    }\n",
       "</style>\n",
       "<table border=\"1\" class=\"dataframe\">\n",
       "  <thead>\n",
       "    <tr style=\"text-align: right;\">\n",
       "      <th></th>\n",
       "      <th>input</th>\n",
       "      <th>datapoint</th>\n",
       "      <th>label</th>\n",
       "      <th>tsid</th>\n",
       "      <th>database</th>\n",
       "    </tr>\n",
       "  </thead>\n",
       "  <tbody>\n",
       "    <tr>\n",
       "      <th>0</th>\n",
       "      <td>http://example.org/demo#bldg_virtual_power</td>\n",
       "      <td>https://brickschema.org/schema/Brick#Electric_...</td>\n",
       "      <td>Building Load (kW)</td>\n",
       "      <td>building.Value</td>\n",
       "      <td>https://ivs.kropman.nl/insitereports/</td>\n",
       "    </tr>\n",
       "    <tr>\n",
       "      <th>1</th>\n",
       "      <td>http://example.org/demo#bldgOutdoorTemperature...</td>\n",
       "      <td>https://example.org/sba-schema#OutdoorTemperat...</td>\n",
       "      <td>OutdoorTemperatureForecast</td>\n",
       "      <td>3ede3817d96d7bb87865eaa7ac657860.Value</td>\n",
       "      <td>https://ivs.kropman.nl/insitereports/</td>\n",
       "    </tr>\n",
       "    <tr>\n",
       "      <th>2</th>\n",
       "      <td>http://example.org/demo#bldgSolarRadianceForecast</td>\n",
       "      <td>https://example.org/sba-schema#SolarRadianceFo...</td>\n",
       "      <td>SolarRadianceForecast</td>\n",
       "      <td>3ede3817d96d7bb87865eaa7ac657860.Value</td>\n",
       "      <td>https://ivs.kropman.nl/insitereports/</td>\n",
       "    </tr>\n",
       "    <tr>\n",
       "      <th>3</th>\n",
       "      <td>http://example.org/demo#bldgWindSpeedForecast</td>\n",
       "      <td>https://example.org/sba-schema#WindSpeedForecast</td>\n",
       "      <td>WindSpeedForecast</td>\n",
       "      <td>3ede3817d96d7bb87865eaa7ac657860.Value</td>\n",
       "      <td>https://ivs.kropman.nl/insitereports/</td>\n",
       "    </tr>\n",
       "    <tr>\n",
       "      <th>4</th>\n",
       "      <td>http://example.org/demo#bldgTrainedRFModel</td>\n",
       "      <td>https://example.org/sba-forecast-schema#Buildi...</td>\n",
       "      <td>TrainedRFModel</td>\n",
       "      <td>model1.sav</td>\n",
       "      <td>https://bimsim.app/mpc</td>\n",
       "    </tr>\n",
       "    <tr>\n",
       "      <th>5</th>\n",
       "      <td>http://example.org/demo#bldgForecastModelParam...</td>\n",
       "      <td>https://example.org/sba-forecast-schema#Buildi...</td>\n",
       "      <td>ForecastModelParameters</td>\n",
       "      <td>modelparamas.json</td>\n",
       "      <td>https://bimsim.app/mpc</td>\n",
       "    </tr>\n",
       "    <tr>\n",
       "      <th>6</th>\n",
       "      <td>http://example.org/demo#bldgOutdoorTemperature...</td>\n",
       "      <td>https://brickschema.org/schema/Brick#Outside_A...</td>\n",
       "      <td>TEMP</td>\n",
       "      <td>a683b494a806af9a8da4d35ae99ba763.Value</td>\n",
       "      <td>https://ivs.kropman.nl/insitereports/</td>\n",
       "    </tr>\n",
       "    <tr>\n",
       "      <th>7</th>\n",
       "      <td>http://example.org/demo#bldgWindSpeedSensor</td>\n",
       "      <td>https://brickschema.org/schema/Brick#Wind_Spee...</td>\n",
       "      <td>WIND</td>\n",
       "      <td>a683b494a806af9a8da4d35ae99ba763.Value</td>\n",
       "      <td>https://ivs.kropman.nl/insitereports/</td>\n",
       "    </tr>\n",
       "    <tr>\n",
       "      <th>8</th>\n",
       "      <td>http://example.org/demo#bldgSolarRadianceSensor</td>\n",
       "      <td>https://brickschema.org/schema/Brick#Solar_Rad...</td>\n",
       "      <td>GHI</td>\n",
       "      <td>a683b494a806af9a8da4d35ae99ba763.Value</td>\n",
       "      <td>https://ivs.kropman.nl/insitereports/</td>\n",
       "    </tr>\n",
       "  </tbody>\n",
       "</table>\n",
       "</div>"
      ],
      "text/plain": [
       "                                               input  \\\n",
       "0         http://example.org/demo#bldg_virtual_power   \n",
       "1  http://example.org/demo#bldgOutdoorTemperature...   \n",
       "2  http://example.org/demo#bldgSolarRadianceForecast   \n",
       "3      http://example.org/demo#bldgWindSpeedForecast   \n",
       "4         http://example.org/demo#bldgTrainedRFModel   \n",
       "5  http://example.org/demo#bldgForecastModelParam...   \n",
       "6  http://example.org/demo#bldgOutdoorTemperature...   \n",
       "7        http://example.org/demo#bldgWindSpeedSensor   \n",
       "8    http://example.org/demo#bldgSolarRadianceSensor   \n",
       "\n",
       "                                           datapoint  \\\n",
       "0  https://brickschema.org/schema/Brick#Electric_...   \n",
       "1  https://example.org/sba-schema#OutdoorTemperat...   \n",
       "2  https://example.org/sba-schema#SolarRadianceFo...   \n",
       "3   https://example.org/sba-schema#WindSpeedForecast   \n",
       "4  https://example.org/sba-forecast-schema#Buildi...   \n",
       "5  https://example.org/sba-forecast-schema#Buildi...   \n",
       "6  https://brickschema.org/schema/Brick#Outside_A...   \n",
       "7  https://brickschema.org/schema/Brick#Wind_Spee...   \n",
       "8  https://brickschema.org/schema/Brick#Solar_Rad...   \n",
       "\n",
       "                        label                                    tsid  \\\n",
       "0          Building Load (kW)                          building.Value   \n",
       "1  OutdoorTemperatureForecast  3ede3817d96d7bb87865eaa7ac657860.Value   \n",
       "2       SolarRadianceForecast  3ede3817d96d7bb87865eaa7ac657860.Value   \n",
       "3           WindSpeedForecast  3ede3817d96d7bb87865eaa7ac657860.Value   \n",
       "4              TrainedRFModel                              model1.sav   \n",
       "5     ForecastModelParameters                       modelparamas.json   \n",
       "6                        TEMP  a683b494a806af9a8da4d35ae99ba763.Value   \n",
       "7                        WIND  a683b494a806af9a8da4d35ae99ba763.Value   \n",
       "8                         GHI  a683b494a806af9a8da4d35ae99ba763.Value   \n",
       "\n",
       "                                database  \n",
       "0  https://ivs.kropman.nl/insitereports/  \n",
       "1  https://ivs.kropman.nl/insitereports/  \n",
       "2  https://ivs.kropman.nl/insitereports/  \n",
       "3  https://ivs.kropman.nl/insitereports/  \n",
       "4                 https://bimsim.app/mpc  \n",
       "5                 https://bimsim.app/mpc  \n",
       "6  https://ivs.kropman.nl/insitereports/  \n",
       "7  https://ivs.kropman.nl/insitereports/  \n",
       "8  https://ivs.kropman.nl/insitereports/  "
      ]
     },
     "execution_count": 19,
     "metadata": {},
     "output_type": "execute_result"
    }
   ],
   "source": [
    "sparql_query = \"\"\"\n",
    "PREFIX ssn: <http://www.w3.org/ns/ssn/>\n",
    "PREFIX ref: <https://brickschema.org/schema/Brick/ref#>\n",
    "PREFIX inst: <http://example.org/demo#>\n",
    "PREFIX brick: <https://brickschema.org/schema/Brick#>\n",
    "PREFIX schema: <https://schema.org/>\n",
    "PREFIX sba: <https://example.org/sba-schema#>\n",
    "PREFIX mpc: <https://example.org/sba-mpc-schema#>\n",
    "PREFIX forc: <https://example.org/sba-forecast-schema#>\n",
    "\n",
    "SELECT ?input ?datapoint ?label ?tsid ?database where { \n",
    "    ?algorithm a forc:LoadForecastAlgorithm .\n",
    "\t?algorithm ssn:hasInput ?input .\n",
    "\n",
    "    OPTIONAL{\n",
    "    ?input  ref:hasExternalReference ?arr .\n",
    "            ?arr ref:hasTimeseriesId ?tsid .\n",
    "            ?arr ref:storedAt ?db .\n",
    "            ?db inst:connstring ?database .\n",
    "            ?input a ?datapoint .\n",
    "        OPTIONAL {\n",
    "        \t?input rdfs:label ?label .\n",
    "    \t}\n",
    "    }\n",
    "}\n",
    "\"\"\"\n",
    "\n",
    "query_params = {\n",
    "    'query': sparql_query,\n",
    "    'infer': 'false' \n",
    "}\n",
    "\n",
    "response = requests.get(building1_sparql_endpoint, params=query_params)\n",
    "\n",
    "if response.status_code == 200:\n",
    "    text = pd.read_csv(StringIO(response.text), sep=\",\")\n",
    "    df = pd.DataFrame(text, columns=[\"input\", \"datapoint\", \"label\" ,\"tsid\", \"database\"], index=None)\n",
    "else:\n",
    "    print(f\"Error: {response.status_code} - {response.reason}\")\n",
    "df"
   ]
  },
  {
   "cell_type": "code",
   "execution_count": 20,
   "metadata": {},
   "outputs": [
    {
     "data": {
      "text/plain": [
       "['https://brickschema.org/schema/Brick#Electric_Power_Sensor',\n",
       " 'https://example.org/sba-schema#OutdoorTemperatureForecast',\n",
       " 'https://example.org/sba-schema#SolarRadianceForecast',\n",
       " 'https://example.org/sba-schema#WindSpeedForecast',\n",
       " 'https://example.org/sba-forecast-schema#BuildingLoadForecastTrainedModel',\n",
       " 'https://example.org/sba-forecast-schema#BuildingLoadForecastModelParameters',\n",
       " 'https://brickschema.org/schema/Brick#Outside_Air_Temperature_Sensor',\n",
       " 'https://brickschema.org/schema/Brick#Wind_Speed_Sensor',\n",
       " 'https://brickschema.org/schema/Brick#Solar_Radiance_Sensor']"
      ]
     },
     "execution_count": 20,
     "metadata": {},
     "output_type": "execute_result"
    }
   ],
   "source": [
    "dplist = df['datapoint'].tolist()\n",
    "dplist"
   ]
  },
  {
   "cell_type": "code",
   "execution_count": 21,
   "metadata": {},
   "outputs": [
    {
     "data": {
      "text/plain": [
       "['brick:Electric_Power_Sensor',\n",
       " 'sba:OutdoorTemperatureForecast',\n",
       " 'sba:SolarRadianceForecast',\n",
       " 'sba:WindSpeedForecast',\n",
       " 'forc:BuildingLoadForecastTrainedModel',\n",
       " 'forc:BuildingLoadForecastModelParameters',\n",
       " 'brick:Outside_Air_Temperature_Sensor',\n",
       " 'brick:Wind_Speed_Sensor',\n",
       " 'brick:Solar_Radiance_Sensor']"
      ]
     },
     "execution_count": 21,
     "metadata": {},
     "output_type": "execute_result"
    }
   ],
   "source": [
    "point_with_suffix_list = []\n",
    "for point in dplist:\n",
    "    suffix = point.split('#')[0] + '#'\n",
    "    point = point.split('#')[-1]\n",
    "    prefixes = {\n",
    "        'brick': 'https://brickschema.org/schema/Brick#',\n",
    "        'sba': 'https://example.org/sba-schema#',\n",
    "        'forc': 'https://example.org/sba-forecast-schema#',\n",
    "        'mpc': 'https://example.org/sba-mpc-schema#',\n",
    "        \n",
    "    }\n",
    "    for prefix, uri in prefixes.items():\n",
    "        if uri == suffix:\n",
    "            suffix = prefix\n",
    "            point_with_suffix = f'{suffix}:{point}'\n",
    "            point_with_suffix_list.append(point_with_suffix)\n",
    "            break\n",
    "point_with_suffix_list"
   ]
  },
  {
   "cell_type": "markdown",
   "metadata": {},
   "source": [
    "### Creating and saving all the shape graphs based on Algorithm Inputs"
   ]
  },
  {
   "cell_type": "code",
   "execution_count": 23,
   "metadata": {},
   "outputs": [],
   "source": [
    "shape_graph_list = []\n",
    "class_names = []\n",
    "for point in point_with_suffix_list:\n",
    "    shape_graph = f\"\"\"\n",
    "@prefix inst: <http://example.org/demo#> .\n",
    "@prefix brick: <https://brickschema.org/schema/Brick#> .\n",
    "@prefix rdf: <http://www.w3.org/1999/02/22-rdf-syntax-ns#> .\n",
    "@prefix sh: <http://www.w3.org/ns/shacl#>.\n",
    "@prefix ref: <https://brickschema.org/schema/Brick/ref#> .\n",
    "@prefix xsd: <http://www.w3.org/2001/XMLSchema#> .\n",
    "@prefix sba: <https://example.org/sba-schema#> .\n",
    "@prefix eva: <https://example.org/sba-ev-schema#> .\n",
    "@prefix mpc: <https://example.org/sba-mpc-schema#> .\n",
    "@prefix forc: <https://example.org/sba-forecast-schema#> .\n",
    "\n",
    "inst:AlgorithmInputShape\n",
    "    a sh:NodeShape ;\n",
    "    sh:targetClass {point} ;\n",
    "    sh:property [\n",
    "        sh:path ref:hasExternalReference ;\n",
    "        sh:minCount 1 ;\n",
    "        sh:node sh:NodeShape ;\n",
    "        sh:property [\n",
    "            sh:path rdf:type ;\n",
    "            sh:hasValue ref:TimeseriesReference ;\n",
    "        ] ;\n",
    "        sh:property [\n",
    "            sh:path ref:hasTimeseriesId ;\n",
    "            sh:minCount 1 ;\n",
    "            sh:datatype xsd:string ;\n",
    "        ] ;\n",
    "    ] .\n",
    "\n",
    "\"\"\"\n",
    "    shape_graph_list.append(shape_graph)\n",
    "    class_name = point.replace(\":\", \"_\")\n",
    "    class_names.append(class_name)\n",
    "\n",
    "i=0\n",
    "for g in shape_graph_list:\n",
    "    with open(f\"ttl/shape_graphs/shape_graph_{class_names[i]}.ttl\", \"w\") as f:\n",
    "        f.write(g)\n",
    "        i=i+1"
   ]
  },
  {
   "cell_type": "markdown",
   "metadata": {},
   "source": [
    "#### Modify shape_graph_brick_Electric_Power_Sensor.ttl to restrict the Electric_Power_Sensor to be a PointOf brick:Building_Electric_Meter (because we are interested in the whole building load)"
   ]
  },
  {
   "cell_type": "code",
   "execution_count": 24,
   "metadata": {},
   "outputs": [
    {
     "name": "stdout",
     "output_type": "stream",
     "text": [
      "@prefix brick: <https://brickschema.org/schema/Brick#> .\n",
      "@prefix inst: <http://example.org/demo#> .\n",
      "@prefix rdf: <http://www.w3.org/1999/02/22-rdf-syntax-ns#> .\n",
      "@prefix ref: <https://brickschema.org/schema/Brick/ref#> .\n",
      "@prefix sh: <http://www.w3.org/ns/shacl#> .\n",
      "@prefix xsd: <http://www.w3.org/2001/XMLSchema#> .\n",
      "\n",
      "inst:AlgorithmInputShape a sh:NodeShape ;\n",
      "    sh:property [ a sh:PropertyShape ;\n",
      "            sh:class brick:Building_Electrical_Meter ;\n",
      "            sh:minCount 1 ;\n",
      "            sh:path brick:isPointOf ],\n",
      "        [ sh:minCount 1 ;\n",
      "            sh:node sh:NodeShape ;\n",
      "            sh:path ref:hasExternalReference ;\n",
      "            sh:property [ sh:hasValue ref:TimeseriesReference ;\n",
      "                    sh:path rdf:type ],\n",
      "                [ sh:datatype xsd:string ;\n",
      "                    sh:minCount 1 ;\n",
      "                    sh:path ref:hasTimeseriesId ] ] ;\n",
      "    sh:targetClass brick:Electric_Power_Sensor .\n",
      "\n",
      "\n"
     ]
    }
   ],
   "source": [
    "from rdflib import Graph, Namespace, RDF, URIRef, BNode, Literal\n",
    "from rdflib.namespace import SH, XSD\n",
    "\n",
    "BRICK = Namespace(\"https://brickschema.org/schema/Brick#\")\n",
    "INST = Namespace(\"http://example.org/demo#\")\n",
    "\n",
    "g = Graph()\n",
    "g.parse('ttl/shape_graphs/shape_graph_brick_Electric_Power_Sensor.ttl', format='turtle')\n",
    "\n",
    "property_shape = BNode()\n",
    "g.add((property_shape, RDF.type, SH.PropertyShape))\n",
    "g.add((property_shape, SH.path, BRICK.isPointOf))\n",
    "g.add((property_shape, SH['class'], BRICK.Building_Electrical_Meter))\n",
    "g.add((property_shape, SH.minCount, Literal(1, datatype=XSD.integer)))\n",
    "\n",
    "shape_node = INST.AlgorithmInputShape\n",
    "g.add((shape_node, SH.property, property_shape))\n",
    "\n",
    "print(g.serialize(format='turtle'))"
   ]
  },
  {
   "cell_type": "code",
   "execution_count": 25,
   "metadata": {},
   "outputs": [],
   "source": [
    "# replace shape_graph_brick_Electric_Power_Sensor.ttl with new shape graph\n",
    "with open('ttl/shape_graphs/shape_graph_brick_Electric_Power_Sensor.ttl', 'w', encoding='utf-8' ) as f:\n",
    "    f.write(g.serialize(format='turtle'))"
   ]
  },
  {
   "cell_type": "markdown",
   "metadata": {},
   "source": [
    "### Merge all shape graphs to create one shape graph"
   ]
  },
  {
   "cell_type": "code",
   "execution_count": 10,
   "metadata": {},
   "outputs": [
    {
     "data": {
      "text/plain": [
       "<Graph identifier=N633085d9d3b945b8822198b09e17650b (<class 'rdflib.graph.Graph'>)>"
      ]
     },
     "execution_count": 10,
     "metadata": {},
     "output_type": "execute_result"
    }
   ],
   "source": [
    "from rdflib import Graph\n",
    "import os\n",
    "\n",
    "merged_graph = Graph()\n",
    "folder_path = \"ttl\\shape_graphs\"\n",
    "for file_name in os.listdir(folder_path):\n",
    "    if file_name.endswith('.ttl'):\n",
    "        file_path = os.path.join(folder_path, file_name)\n",
    "        temp_graph = Graph()\n",
    "        temp_graph.parse(file_path, format='turtle')\n",
    "        merged_graph += temp_graph\n",
    "merged_graph.serialize(\"ttl/shape_graphs/merged_shape_graphs.ttl\", format='turtle')"
   ]
  },
  {
   "cell_type": "markdown",
   "metadata": {},
   "source": [
    "# Use shape graphs to validate building 2"
   ]
  },
  {
   "cell_type": "code",
   "execution_count": 3,
   "metadata": {},
   "outputs": [],
   "source": [
    "building2_sparql_endpoint = 'http://localhost:7400/repositories/building2'"
   ]
  },
  {
   "cell_type": "markdown",
   "metadata": {},
   "source": [
    "### Building 2 data graph"
   ]
  },
  {
   "cell_type": "code",
   "execution_count": 5,
   "metadata": {},
   "outputs": [
    {
     "name": "stdout",
     "output_type": "stream",
     "text": [
      "Loaded 602 tripples\n"
     ]
    }
   ],
   "source": [
    "from rdflib import Graph\n",
    "\n",
    "construct_query = \"\"\"\n",
    "CONSTRUCT { ?s ?p ?o }\n",
    "WHERE { ?s ?p ?o }\n",
    "\"\"\"\n",
    "\n",
    "query_params = {\n",
    "    'query': construct_query,\n",
    "    'infer': 'false' \n",
    "}\n",
    "\n",
    "response = requests.get(building2_sparql_endpoint, params=query_params)\n",
    "\n",
    "if response.status_code == 200:\n",
    "    response_text = response.text\n",
    "    building2_data_graph= Graph()\n",
    "    building2_data_graph.parse(data=response_text, format=\"turtle\")\n",
    "    print(f\"Loaded {len(building2_data_graph)} tripples\")\n",
    "\n",
    "else:\n",
    "    print(f\"Error: {response.status_code} - {response.reason}\")"
   ]
  },
  {
   "cell_type": "markdown",
   "metadata": {},
   "source": [
    "#### ASK Query"
   ]
  },
  {
   "cell_type": "code",
   "execution_count": 6,
   "metadata": {},
   "outputs": [],
   "source": [
    "arr = ['brick:Electric_Power_Sensor',\n",
    " 'sba:OutdoorTemperatureForecast',\n",
    " 'sba:SolarRadianceForecast',\n",
    " 'sba:WindSpeedForecast',\n",
    " 'forc:BuildingLoadForecastTrainedModel',\n",
    " 'forc:BuildingLoadForecastModelParameters',\n",
    " 'brick:Outside_Air_Temperature_Sensor',\n",
    " 'brick:Wind_Speed_Sensor',\n",
    " 'brick:Solar_Radiance_Sensor']"
   ]
  },
  {
   "cell_type": "code",
   "execution_count": 7,
   "metadata": {},
   "outputs": [
    {
     "name": "stdout",
     "output_type": "stream",
     "text": [
      "brick:Electric_Power_Sensor: True\n",
      "sba:OutdoorTemperatureForecast: True\n",
      "sba:SolarRadianceForecast: True\n",
      "sba:WindSpeedForecast: True\n",
      "forc:BuildingLoadForecastTrainedModel: True\n",
      "forc:BuildingLoadForecastModelParameters: True\n",
      "brick:Outside_Air_Temperature_Sensor: True\n",
      "brick:Wind_Speed_Sensor: True\n",
      "brick:Solar_Radiance_Sensor: True\n"
     ]
    }
   ],
   "source": [
    "ask_arr = []\n",
    "for point in arr:\n",
    "        ask_query = f\"\"\"\n",
    "        PREFIX ssn: <http://www.w3.org/ns/ssn/>\n",
    "        PREFIX ref: <https://brickschema.org/schema/Brick/ref#>\n",
    "        PREFIX inst: <http://example.org/demo#>\n",
    "        PREFIX brick: <https://brickschema.org/schema/Brick#>\n",
    "        PREFIX schema: <https://schema.org/>\n",
    "        PREFIX sba: <https://example.org/sba-schema#>\n",
    "        PREFIX mpc: <https://example.org/sba-mpc-schema#>\n",
    "        PREFIX forc: <https://example.org/sba-forecast-schema#>\n",
    "\n",
    "        ASK WHERE {{\n",
    "            ?s a {point}\n",
    "        }}\n",
    "        \"\"\"\n",
    "        res = building2_data_graph.query(ask_query)\n",
    "        boolean_result = bool(res.askAnswer)\n",
    "        ask_arr.append((point, boolean_result))\n",
    "\n",
    "for point, result in ask_arr:\n",
    "    print(f\"{point}: {result}\")"
   ]
  },
  {
   "cell_type": "code",
   "execution_count": 8,
   "metadata": {},
   "outputs": [],
   "source": [
    "import pyshacl\n",
    "\n",
    "def validate_graph(data_graph, shape_graph):\n",
    "    shapes_file_format = \"turtle\"\n",
    "    data_file_format = \"turtle\"\n",
    "\n",
    "    res = pyshacl.validate(\n",
    "        data_graph,\n",
    "        shacl_graph=shape_graph,\n",
    "        data_graph_format=data_file_format,\n",
    "        shacl_graph_format=shapes_file_format,\n",
    "        inference=\"both\",\n",
    "    )\n",
    "    return res"
   ]
  },
  {
   "cell_type": "code",
   "execution_count": 11,
   "metadata": {},
   "outputs": [
    {
     "name": "stdout",
     "output_type": "stream",
     "text": [
      "Validation Report\n",
      "Conforms: True\n",
      "\n"
     ]
    }
   ],
   "source": [
    "res=validate_graph(merged_graph,building2_data_graph )\n",
    "conforms, results_graph, results_text = res\n",
    "print(results_text)"
   ]
  }
 ],
 "metadata": {
  "kernelspec": {
   "display_name": "venv",
   "language": "python",
   "name": "python3"
  },
  "language_info": {
   "codemirror_mode": {
    "name": "ipython",
    "version": 3
   },
   "file_extension": ".py",
   "mimetype": "text/x-python",
   "name": "python",
   "nbconvert_exporter": "python",
   "pygments_lexer": "ipython3",
   "version": "3.11.2"
  }
 },
 "nbformat": 4,
 "nbformat_minor": 2
}
